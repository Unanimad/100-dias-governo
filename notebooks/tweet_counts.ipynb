{
  "nbformat": 4,
  "nbformat_minor": 0,
  "metadata": {
    "colab": {
      "name": "jairbolsonaro_analysis.ipynb",
      "provenance": []
    },
    "kernelspec": {
      "name": "python3",
      "display_name": "Python 3"
    }
  },
  "cells": [
    {
      "cell_type": "code",
      "metadata": {
        "id": "423ztXtz5psq",
        "colab_type": "code",
        "colab": {}
      },
      "source": [
        "import csv\n",
        "import pandas as pd\n",
        "import numpy as np\n",
        "import matplotlib.pyplot as plt"
      ],
      "execution_count": 0,
      "outputs": []
    },
    {
      "cell_type": "code",
      "metadata": {
        "id": "pL3xATfT5raY",
        "colab_type": "code",
        "outputId": "f2fa7979-68a2-4d8e-cd27-21354a9b804e",
        "colab": {
          "base_uri": "https://localhost:8080/",
          "height": 34
        }
      },
      "source": [
        "from google.colab import drive\n",
        "drive.mount('/content/drive')\n",
        "path = \"jairbolsonaro.csv\""
      ],
      "execution_count": 2,
      "outputs": [
        {
          "output_type": "stream",
          "text": [
            "Drive already mounted at /content/drive; to attempt to forcibly remount, call drive.mount(\"/content/drive\", force_remount=True).\n"
          ],
          "name": "stdout"
        }
      ]
    },
    {
      "cell_type": "code",
      "metadata": {
        "id": "pnb4z1YV58zz",
        "colab_type": "code",
        "colab": {}
      },
      "source": [
        "df = pd.read_csv(path, sep=';', date_parser=['created_at'])"
      ],
      "execution_count": 0,
      "outputs": []
    },
    {
      "cell_type": "code",
      "metadata": {
        "id": "4EGxM_Jb6IxB",
        "colab_type": "code",
        "outputId": "f3cf2ea4-1dae-4ad6-9e20-3c2215312963",
        "colab": {
          "base_uri": "https://localhost:8080/",
          "height": 197
        }
      },
      "source": [
        "df.head()"
      ],
      "execution_count": 4,
      "outputs": [
        {
          "output_type": "execute_result",
          "data": {
            "text/html": [
              "<div>\n",
              "<style scoped>\n",
              "    .dataframe tbody tr th:only-of-type {\n",
              "        vertical-align: middle;\n",
              "    }\n",
              "\n",
              "    .dataframe tbody tr th {\n",
              "        vertical-align: top;\n",
              "    }\n",
              "\n",
              "    .dataframe thead th {\n",
              "        text-align: right;\n",
              "    }\n",
              "</style>\n",
              "<table border=\"1\" class=\"dataframe\">\n",
              "  <thead>\n",
              "    <tr style=\"text-align: right;\">\n",
              "      <th></th>\n",
              "      <th>id</th>\n",
              "      <th>created_at</th>\n",
              "      <th>text</th>\n",
              "      <th>retweet_count</th>\n",
              "      <th>favorite_count</th>\n",
              "    </tr>\n",
              "  </thead>\n",
              "  <tbody>\n",
              "    <tr>\n",
              "      <th>0</th>\n",
              "      <td>1181330545277575170</td>\n",
              "      <td>2019-10-07 22:08:44</td>\n",
              "      <td>. Via Ministro da Justiça e Segurança Pública,...</td>\n",
              "      <td>6973</td>\n",
              "      <td>26499</td>\n",
              "    </tr>\n",
              "    <tr>\n",
              "      <th>1</th>\n",
              "      <td>1181323221532123145</td>\n",
              "      <td>2019-10-07 21:39:38</td>\n",
              "      <td>Inaugurada Unidade de Distribuição da Agricult...</td>\n",
              "      <td>3298</td>\n",
              "      <td>17123</td>\n",
              "    </tr>\n",
              "    <tr>\n",
              "      <th>2</th>\n",
              "      <td>1181304052065460224</td>\n",
              "      <td>2019-10-07 20:23:28</td>\n",
              "      <td>Via @BolsonaroSP : Acompanhando o @MEC_Comunic...</td>\n",
              "      <td>2482</td>\n",
              "      <td>12479</td>\n",
              "    </tr>\n",
              "    <tr>\n",
              "      <th>3</th>\n",
              "      <td>1181304052065460224</td>\n",
              "      <td>2019-10-07 20:23:28</td>\n",
              "      <td>Via @BolsonaroSP : Acompanhando o @MEC_Comunic...</td>\n",
              "      <td>2482</td>\n",
              "      <td>12479</td>\n",
              "    </tr>\n",
              "    <tr>\n",
              "      <th>4</th>\n",
              "      <td>1181267750716616704</td>\n",
              "      <td>2019-10-07 17:59:13</td>\n",
              "      <td>https://t.co/PQbqRXBnzL</td>\n",
              "      <td>3209</td>\n",
              "      <td>13490</td>\n",
              "    </tr>\n",
              "  </tbody>\n",
              "</table>\n",
              "</div>"
            ],
            "text/plain": [
              "                    id           created_at  ... retweet_count  favorite_count\n",
              "0  1181330545277575170  2019-10-07 22:08:44  ...          6973           26499\n",
              "1  1181323221532123145  2019-10-07 21:39:38  ...          3298           17123\n",
              "2  1181304052065460224  2019-10-07 20:23:28  ...          2482           12479\n",
              "3  1181304052065460224  2019-10-07 20:23:28  ...          2482           12479\n",
              "4  1181267750716616704  2019-10-07 17:59:13  ...          3209           13490\n",
              "\n",
              "[5 rows x 5 columns]"
            ]
          },
          "metadata": {
            "tags": []
          },
          "execution_count": 4
        }
      ]
    },
    {
      "cell_type": "code",
      "metadata": {
        "id": "QuGEhLLi6P8Q",
        "colab_type": "code",
        "outputId": "41eb818f-dc2e-40a1-fcf8-10b5b2858ea9",
        "colab": {
          "base_uri": "https://localhost:8080/",
          "height": 287
        }
      },
      "source": [
        "df.describe()"
      ],
      "execution_count": 5,
      "outputs": [
        {
          "output_type": "execute_result",
          "data": {
            "text/html": [
              "<div>\n",
              "<style scoped>\n",
              "    .dataframe tbody tr th:only-of-type {\n",
              "        vertical-align: middle;\n",
              "    }\n",
              "\n",
              "    .dataframe tbody tr th {\n",
              "        vertical-align: top;\n",
              "    }\n",
              "\n",
              "    .dataframe thead th {\n",
              "        text-align: right;\n",
              "    }\n",
              "</style>\n",
              "<table border=\"1\" class=\"dataframe\">\n",
              "  <thead>\n",
              "    <tr style=\"text-align: right;\">\n",
              "      <th></th>\n",
              "      <th>id</th>\n",
              "      <th>retweet_count</th>\n",
              "      <th>favorite_count</th>\n",
              "    </tr>\n",
              "  </thead>\n",
              "  <tbody>\n",
              "    <tr>\n",
              "      <th>count</th>\n",
              "      <td>2.092000e+03</td>\n",
              "      <td>2092.000000</td>\n",
              "      <td>2092.000000</td>\n",
              "    </tr>\n",
              "    <tr>\n",
              "      <th>mean</th>\n",
              "      <td>1.127036e+18</td>\n",
              "      <td>5147.610421</td>\n",
              "      <td>33194.990440</td>\n",
              "    </tr>\n",
              "    <tr>\n",
              "      <th>std</th>\n",
              "      <td>2.962363e+16</td>\n",
              "      <td>3740.235902</td>\n",
              "      <td>25881.402927</td>\n",
              "    </tr>\n",
              "    <tr>\n",
              "      <th>min</th>\n",
              "      <td>1.079956e+18</td>\n",
              "      <td>7.000000</td>\n",
              "      <td>0.000000</td>\n",
              "    </tr>\n",
              "    <tr>\n",
              "      <th>25%</th>\n",
              "      <td>1.102549e+18</td>\n",
              "      <td>2682.500000</td>\n",
              "      <td>14645.000000</td>\n",
              "    </tr>\n",
              "    <tr>\n",
              "      <th>50%</th>\n",
              "      <td>1.124488e+18</td>\n",
              "      <td>4465.000000</td>\n",
              "      <td>31318.500000</td>\n",
              "    </tr>\n",
              "    <tr>\n",
              "      <th>75%</th>\n",
              "      <td>1.152023e+18</td>\n",
              "      <td>6998.250000</td>\n",
              "      <td>47731.750000</td>\n",
              "    </tr>\n",
              "    <tr>\n",
              "      <th>max</th>\n",
              "      <td>1.181331e+18</td>\n",
              "      <td>36954.000000</td>\n",
              "      <td>168674.000000</td>\n",
              "    </tr>\n",
              "  </tbody>\n",
              "</table>\n",
              "</div>"
            ],
            "text/plain": [
              "                 id  retweet_count  favorite_count\n",
              "count  2.092000e+03    2092.000000     2092.000000\n",
              "mean   1.127036e+18    5147.610421    33194.990440\n",
              "std    2.962363e+16    3740.235902    25881.402927\n",
              "min    1.079956e+18       7.000000        0.000000\n",
              "25%    1.102549e+18    2682.500000    14645.000000\n",
              "50%    1.124488e+18    4465.000000    31318.500000\n",
              "75%    1.152023e+18    6998.250000    47731.750000\n",
              "max    1.181331e+18   36954.000000   168674.000000"
            ]
          },
          "metadata": {
            "tags": []
          },
          "execution_count": 5
        }
      ]
    },
    {
      "cell_type": "code",
      "metadata": {
        "id": "KdVoQs8placC",
        "colab_type": "code",
        "colab": {}
      },
      "source": [
        "def convert(x):\n",
        "  x = str(x)\n",
        "  return f'{x[:4]}-{x[4:]}'"
      ],
      "execution_count": 0,
      "outputs": []
    },
    {
      "cell_type": "code",
      "metadata": {
        "id": "hD6R8IqyAPII",
        "colab_type": "code",
        "colab": {}
      },
      "source": [
        "df['YearMonth'] = pd.to_datetime(df['created_at']).apply(lambda x: int(f'{x.year}{x.month}'))\n",
        "df['YearMonthDay'] = pd.to_datetime(df['created_at']).apply(lambda x: int(f'{x.year}{x.month}{x.day}'))"
      ],
      "execution_count": 0,
      "outputs": []
    },
    {
      "cell_type": "code",
      "metadata": {
        "id": "kLRkA2dnVjtR",
        "colab_type": "code",
        "colab": {}
      },
      "source": [
        "res = df.groupby('YearMonth')['id'].count()"
      ],
      "execution_count": 0,
      "outputs": []
    },
    {
      "cell_type": "code",
      "metadata": {
        "id": "MW-9rrS5CU8y",
        "colab_type": "code",
        "outputId": "1e00b157-f974-40a1-a336-b2b07ec0a959",
        "colab": {
          "base_uri": "https://localhost:8080/",
          "height": 594
        }
      },
      "source": [
        "X = tuple(map(convert, res.index))\n",
        "Y = res.values\n",
        "\n",
        "plt.figure(figsize=(20,10))\n",
        "plt.tight_layout()\n",
        "plt.title(label='')\n",
        "\n",
        "plt.plot(X, Y, linewidth=5, color='#0984e3')\n",
        "plt.grid(True, axis='y', linestyle='-.')"
      ],
      "execution_count": 9,
      "outputs": [
        {
          "output_type": "display_data",
          "data": {
            "image/png": "[encoded data removed]",
            "text/plain": [
              "<Figure size 1440x720 with 1 Axes>"
            ]
          },
          "metadata": {
            "tags": []
          }
        }
      ]
    },
    {
      "cell_type": "code",
      "metadata": {
        "id": "JkSTfrscYgNB",
        "colab_type": "code",
        "colab": {
          "base_uri": "https://localhost:8080/",
          "height": 194
        },
        "outputId": "530ba286-d578-4d85-ac9c-983c42e95d53"
      },
      "source": [
        "X"
      ],
      "execution_count": 10,
      "outputs": [
        {
          "output_type": "execute_result",
          "data": {
            "text/plain": [
              "('2019-1',\n",
              " '2019-2',\n",
              " '2019-3',\n",
              " '2019-4',\n",
              " '2019-5',\n",
              " '2019-6',\n",
              " '2019-7',\n",
              " '2019-8',\n",
              " '2019-9',\n",
              " '2019-10')"
            ]
          },
          "metadata": {
            "tags": []
          },
          "execution_count": 10
        }
      ]
    },
    {
      "cell_type": "code",
      "metadata": {
        "id": "3mSQbGG7tW1y",
        "colab_type": "code",
        "colab": {
          "base_uri": "https://localhost:8080/",
          "height": 34
        },
        "outputId": "20d3d5f5-2b2e-43b5-dd21-00fbaf9e9cd3"
      },
      "source": [
        "res.sum()"
      ],
      "execution_count": 11,
      "outputs": [
        {
          "output_type": "execute_result",
          "data": {
            "text/plain": [
              "2092"
            ]
          },
          "metadata": {
            "tags": []
          },
          "execution_count": 11
        }
      ]
    },
    {
      "cell_type": "code",
      "metadata": {
        "id": "TaaH4n3FwZPI",
        "colab_type": "code",
        "colab": {
          "base_uri": "https://localhost:8080/",
          "height": 34
        },
        "outputId": "4c764cbf-6fb7-4b9e-f944-885d7dcf3e47"
      },
      "source": [
        "df.id.count()"
      ],
      "execution_count": 12,
      "outputs": [
        {
          "output_type": "execute_result",
          "data": {
            "text/plain": [
              "2092"
            ]
          },
          "metadata": {
            "tags": []
          },
          "execution_count": 12
        }
      ]
    },
    {
      "cell_type": "code",
      "metadata": {
        "id": "j92jzXLJw5uR",
        "colab_type": "code",
        "colab": {}
      },
      "source": [
        ""
      ],
      "execution_count": 0,
      "outputs": []
    },
    {
      "cell_type": "code",
      "metadata": {
        "id": "iC5zd3e5zPYy",
        "colab_type": "code",
        "colab": {}
      },
      "source": [
        ""
      ],
      "execution_count": 0,
      "outputs": []
    }
  ]
}